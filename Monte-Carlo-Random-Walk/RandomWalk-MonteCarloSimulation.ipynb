{
 "cells": [
  {
   "cell_type": "markdown",
   "metadata": {},
   "source": [
    " RANDOM WALK AND MONTE CARLO SIMULATION "
   ]
  },
  {
   "cell_type": "markdown",
   "metadata": {},
   "source": [
    "* Suppose a city in which street is  defined in a perfect grid. You walk through the grid. At each intersection of the grid you decide to take one random direction out of four directions. Backtracking is also permitted. One the finished it can be checked how far from the inital point has been travelled. If you are 3 blocks away from initial point you will pay for the travel back to the initial point.\n",
    "    \n",
    "* What is the random walk you can take so that on average you will end up 3 blocks or fewer from home ? "
   ]
  },
  {
   "cell_type": "markdown",
   "metadata": {},
   "source": [
    "* RANDOM WALK"
   ]
  },
  {
   "cell_type": "code",
   "execution_count": 1,
   "metadata": {},
   "outputs": [],
   "source": [
    "import random"
   ]
  },
  {
   "cell_type": "code",
   "execution_count": 2,
   "metadata": {},
   "outputs": [],
   "source": [
    "# define a function\n",
    "def random_walk(n):\n",
    "    \"\"\"Return coordinates after 'n' block random walk.\"\"\"\n",
    "    x = 0\n",
    "    y = 0  # initial position in the grid\n",
    "    for i in range(n):\n",
    "        step = random.choice(['N','S', 'E', 'W'])\n",
    "        if step == 'N':\n",
    "            y = y + 1\n",
    "        elif step == 'S':\n",
    "            y = y - 1\n",
    "        elif step == 'E':\n",
    "            x = x + 1\n",
    "        else: \n",
    "            x = x - 1\n",
    "    return (x,y)"
   ]
  },
  {
   "cell_type": "code",
   "execution_count": 3,
   "metadata": {},
   "outputs": [
    {
     "name": "stdout",
     "output_type": "stream",
     "text": [
      "(2, 2) Distance from home =  4\n",
      "(1, -1) Distance from home =  2\n",
      "(-1, -1) Distance from home =  2\n",
      "(-3, -1) Distance from home =  4\n",
      "(-1, -1) Distance from home =  2\n",
      "(1, -3) Distance from home =  4\n",
      "(-1, 5) Distance from home =  6\n",
      "(0, 0) Distance from home =  0\n",
      "(-1, 5) Distance from home =  6\n",
      "(-1, 1) Distance from home =  2\n",
      "(-1, 1) Distance from home =  2\n",
      "(-1, -1) Distance from home =  2\n",
      "(1, -1) Distance from home =  2\n",
      "(-2, 4) Distance from home =  6\n",
      "(5, 1) Distance from home =  6\n",
      "(-2, -4) Distance from home =  6\n",
      "(1, -1) Distance from home =  2\n",
      "(-4, 2) Distance from home =  6\n",
      "(0, 4) Distance from home =  4\n",
      "(0, 2) Distance from home =  2\n",
      "(6, 2) Distance from home =  8\n",
      "(2, 0) Distance from home =  2\n",
      "(4, 0) Distance from home =  4\n",
      "(2, 0) Distance from home =  2\n",
      "(2, -4) Distance from home =  6\n"
     ]
    }
   ],
   "source": [
    "# Test this function random_walk\n",
    "for i in range(25):\n",
    "    walk = random_walk(10)\n",
    "    print(walk, \"Distance from home = \", abs(walk[0]) + abs(walk[1]))\n",
    "    "
   ]
  },
  {
   "cell_type": "code",
   "execution_count": 4,
   "metadata": {},
   "outputs": [],
   "source": [
    "# Second version of function for random walk\n",
    "\n",
    "import random \n",
    "\n",
    "def random_walk_2(n):\n",
    "    \"\"\"Return coordinates after \"n\" block random walk>\"\"\"\n",
    "    x, y = 0,0\n",
    "    for i in range(n):\n",
    "        (dx, dy) = random.choice([(0, 1),(0, -1), (1, 0),(-1, 0)])  # dx, dy: Difference in x and y\n",
    "        x += dx\n",
    "        y += dy\n",
    "    return (x, y)"
   ]
  },
  {
   "cell_type": "code",
   "execution_count": 5,
   "metadata": {},
   "outputs": [
    {
     "name": "stdout",
     "output_type": "stream",
     "text": [
      "(0, 2) Distance from home =  2\n",
      "(-3, -1) Distance from home =  4\n",
      "(-2, -4) Distance from home =  6\n",
      "(0, 2) Distance from home =  2\n",
      "(-2, 0) Distance from home =  2\n",
      "(2, -2) Distance from home =  4\n",
      "(1, 3) Distance from home =  4\n",
      "(-2, -4) Distance from home =  6\n",
      "(-1, -1) Distance from home =  2\n",
      "(-2, 2) Distance from home =  4\n",
      "(-3, -1) Distance from home =  4\n",
      "(-1, -1) Distance from home =  2\n",
      "(-2, 0) Distance from home =  2\n",
      "(1, -5) Distance from home =  6\n",
      "(-2, -2) Distance from home =  4\n",
      "(-2, -2) Distance from home =  4\n",
      "(1, 1) Distance from home =  2\n",
      "(0, 2) Distance from home =  2\n",
      "(3, 3) Distance from home =  6\n",
      "(1, -1) Distance from home =  2\n",
      "(-2, 0) Distance from home =  2\n",
      "(6, -2) Distance from home =  8\n",
      "(3, 1) Distance from home =  4\n",
      "(1, 3) Distance from home =  4\n",
      "(0, -2) Distance from home =  2\n"
     ]
    }
   ],
   "source": [
    "for i in range(25):\n",
    "    walk = random_walk_2(10)\n",
    "    print(walk, \"Distance from home = \", abs(walk[0]) + abs(walk[1]))"
   ]
  },
  {
   "cell_type": "markdown",
   "metadata": {},
   "source": [
    "* Monte Carlo simulation"
   ]
  },
  {
   "cell_type": "code",
   "execution_count": 6,
   "metadata": {
    "scrolled": false
   },
   "outputs": [
    {
     "name": "stdout",
     "output_type": "stream",
     "text": [
      "walk size =  1 / % of no transport = 100.0\n",
      "walk size =  2 / % of no transport = 100.0\n",
      "walk size =  3 / % of no transport = 100.0\n",
      "walk size =  4 / % of no transport = 76.8\n",
      "walk size =  5 / % of no transport = 88.1\n",
      "walk size =  6 / % of no transport = 57.99999999999999\n",
      "walk size =  7 / % of no transport = 75.4\n",
      "walk size =  8 / % of no transport = 52.2\n",
      "walk size =  9 / % of no transport = 68.5\n",
      "walk size =  10 / % of no transport = 45.800000000000004\n",
      "walk size =  11 / % of no transport = 60.5\n",
      "walk size =  12 / % of no transport = 37.8\n",
      "walk size =  13 / % of no transport = 54.6\n",
      "walk size =  14 / % of no transport = 33.2\n",
      "walk size =  15 / % of no transport = 46.6\n",
      "walk size =  16 / % of no transport = 27.700000000000003\n",
      "walk size =  17 / % of no transport = 46.2\n",
      "walk size =  18 / % of no transport = 25.6\n",
      "walk size =  19 / % of no transport = 39.7\n",
      "walk size =  20 / % of no transport = 23.3\n",
      "walk size =  21 / % of no transport = 39.1\n",
      "walk size =  22 / % of no transport = 21.5\n",
      "walk size =  23 / % of no transport = 33.800000000000004\n",
      "walk size =  24 / % of no transport = 21.4\n",
      "walk size =  25 / % of no transport = 34.5\n",
      "walk size =  26 / % of no transport = 21.3\n",
      "walk size =  27 / % of no transport = 29.5\n",
      "walk size =  28 / % of no transport = 19.2\n",
      "walk size =  29 / % of no transport = 31.4\n",
      "walk size =  30 / % of no transport = 16.900000000000002\n"
     ]
    }
   ],
   "source": [
    "number_of_walks = 1000\n",
    "for walk_length in range(1, 31):\n",
    "    no_transport = 0   # Number of walks 3 or fewer blocks from home \n",
    "    for i in range(number_of_walks):\n",
    "        (x, y) = random_walk_2(walk_length)\n",
    "        distance = abs(x) + abs(y)\n",
    "        if distance <= 3:\n",
    "            no_transport += 1\n",
    "    no_transport_percentage = float(no_transport)/ number_of_walks\n",
    "    print(\"walk size = \", walk_length, \"/ % of no transport =\", 100*no_transport_percentage)\n",
    "    "
   ]
  },
  {
   "cell_type": "markdown",
   "metadata": {},
   "source": [
    "* Walk of size 13 blocks is the longest walk that has more than 50 percentage chance to walk back to initail position withour paying anything\n"
   ]
  }
 ],
 "metadata": {
  "kernelspec": {
   "display_name": "Python 3",
   "language": "python",
   "name": "python3"
  },
  "language_info": {
   "codemirror_mode": {
    "name": "ipython",
    "version": 3
   },
   "file_extension": ".py",
   "mimetype": "text/x-python",
   "name": "python",
   "nbconvert_exporter": "python",
   "pygments_lexer": "ipython3",
   "version": "3.6.9"
  }
 },
 "nbformat": 4,
 "nbformat_minor": 2
}
